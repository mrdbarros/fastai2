{
 "cells": [
  {
   "cell_type": "code",
   "execution_count": null,
   "metadata": {},
   "outputs": [],
   "source": [
    "from fastai2.basics import *\n",
    "from fastai2.callback.all import *\n",
    "from fastai2.text.all import *"
   ]
  },
  {
   "cell_type": "code",
   "execution_count": null,
   "metadata": {},
   "outputs": [],
   "source": [
    "# all_slow"
   ]
  },
  {
   "cell_type": "markdown",
   "metadata": {},
   "source": [
    "# Integration test on Wikitext-2\n",
    "\n",
    "> Training a Language Model on WT2"
   ]
  },
  {
   "cell_type": "markdown",
   "metadata": {},
   "source": [
    "## Data"
   ]
  },
  {
   "cell_type": "code",
   "execution_count": null,
   "metadata": {},
   "outputs": [],
   "source": [
    "path = untar_data(URLs.WIKITEXT_TINY)"
   ]
  },
  {
   "cell_type": "markdown",
   "metadata": {},
   "source": [
    "The dataset comes with the articles in two csv files, so we read it and concatenate them in one dataframe."
   ]
  },
  {
   "cell_type": "code",
   "execution_count": null,
   "metadata": {},
   "outputs": [],
   "source": [
    "df_train = pd.read_csv(path/'train.csv', header=None)\n",
    "df_valid = pd.read_csv(path/'test.csv', header=None)\n",
    "df_all = pd.concat([df_train, df_valid])"
   ]
  },
  {
   "cell_type": "code",
   "execution_count": null,
   "metadata": {},
   "outputs": [
    {
     "data": {
      "text/html": [
       "<div>\n",
       "<style scoped>\n",
       "    .dataframe tbody tr th:only-of-type {\n",
       "        vertical-align: middle;\n",
       "    }\n",
       "\n",
       "    .dataframe tbody tr th {\n",
       "        vertical-align: top;\n",
       "    }\n",
       "\n",
       "    .dataframe thead th {\n",
       "        text-align: right;\n",
       "    }\n",
       "</style>\n",
       "<table border=\"1\" class=\"dataframe\">\n",
       "  <thead>\n",
       "    <tr style=\"text-align: right;\">\n",
       "      <th></th>\n",
       "      <th>0</th>\n",
       "    </tr>\n",
       "  </thead>\n",
       "  <tbody>\n",
       "    <tr>\n",
       "      <td>0</td>\n",
       "      <td>\\n = 2013 – 14 York City F.C. season = \\n \\n The 2013 – 14 season was the &lt;unk&gt; season of competitive association football and 77th season in the Football League played by York City Football Club , a professional football club based in York , North Yorkshire , England . Their 17th @-@ place finish in 2012 – 13 meant it was their second consecutive season in League Two . The season ran from 1 July 2013 to 30 June 2014 . \\n Nigel Worthington , starting his first full season as York manager , made eight permanent summer signings . By the turn of the year York were only above the relegation z...</td>\n",
       "    </tr>\n",
       "    <tr>\n",
       "      <td>1</td>\n",
       "      <td>\\n = Big Boy ( song ) = \\n \\n \" Big Boy \" &lt;unk&gt; \" I 'm A Big Boy Now \" was the first single ever recorded by the Jackson 5 , which was released by Steeltown Records in January 1968 . The group played instruments on many of their Steeltown compositions , including \" Big Boy \" . The song was neither a critical nor commercial success , but the Jackson family were delighted with the outcome nonetheless . \\n The Jackson 5 would release a second single with Steeltown Records before moving to Motown Records . The group 's recordings at Steeltown Records were thought to be lost , but they were re...</td>\n",
       "    </tr>\n",
       "    <tr>\n",
       "      <td>2</td>\n",
       "      <td>\\n = The Remix ( Lady Gaga album ) = \\n \\n The Remix is a remix album by American recording artist Lady Gaga . Released in Japan on March 3 , 2010 , it contains remixes of the songs from her first studio album , The Fame ( 2008 ) , and her third extended play , The Fame Monster ( 2009 ) . A revised version of the track list was prepared for release in additional markets , beginning with Mexico on May 3 , 2010 . A number of recording artists have produced the songs , including Pet Shop Boys , Passion Pit and The Sound of Arrows . The remixed versions feature both uptempo and &lt;unk&gt; composit...</td>\n",
       "    </tr>\n",
       "    <tr>\n",
       "      <td>3</td>\n",
       "      <td>\\n = New Year 's Eve ( Up All Night ) = \\n \\n \" New Year 's Eve \" is the twelfth episode of the first season of the American comedy television series Up All Night . The episode originally aired on NBC in the United States on January 12 , 2012 . It was written by Erica &lt;unk&gt; and was directed by Beth McCarthy @-@ Miller . The episode also featured a guest appearance from Jason Lee as Chris and Reagan 's neighbor and Ava 's boyfriend , Kevin . \\n During Reagan ( Christina Applegate ) and Chris 's ( Will &lt;unk&gt; ) first New Year 's Eve game night , Reagan 's competitiveness comes out causing Ch...</td>\n",
       "    </tr>\n",
       "    <tr>\n",
       "      <td>4</td>\n",
       "      <td>\\n = Geopyxis carbonaria = \\n \\n Geopyxis carbonaria is a species of fungus in the genus Geopyxis , family &lt;unk&gt; . First described to science in 1805 , and given its current name in 1889 , the species is commonly known as the charcoal loving elf @-@ cup , dwarf &lt;unk&gt; cup , &lt;unk&gt; &lt;unk&gt; cup , or pixie cup . The small , &lt;unk&gt; @-@ shaped fruitbodies of the fungus are reddish @-@ brown with a whitish fringe and measure up to 2 cm ( 0 @.@ 8 in ) across . They have a short , tapered stalk . Fruitbodies are commonly found on soil where brush has recently been burned , sometimes in great numbers ....</td>\n",
       "    </tr>\n",
       "  </tbody>\n",
       "</table>\n",
       "</div>"
      ],
      "text/plain": [
       "                                                                                                                                                                                                                                                                                                                                                                                                                                                                                                                                                                                                                         0\n",
       "0   \\n = 2013 – 14 York City F.C. season = \\n \\n The 2013 – 14 season was the <unk> season of competitive association football and 77th season in the Football League played by York City Football Club , a professional football club based in York , North Yorkshire , England . Their 17th @-@ place finish in 2012 – 13 meant it was their second consecutive season in League Two . The season ran from 1 July 2013 to 30 June 2014 . \\n Nigel Worthington , starting his first full season as York manager , made eight permanent summer signings . By the turn of the year York were only above the relegation z...\n",
       "1   \\n = Big Boy ( song ) = \\n \\n \" Big Boy \" <unk> \" I 'm A Big Boy Now \" was the first single ever recorded by the Jackson 5 , which was released by Steeltown Records in January 1968 . The group played instruments on many of their Steeltown compositions , including \" Big Boy \" . The song was neither a critical nor commercial success , but the Jackson family were delighted with the outcome nonetheless . \\n The Jackson 5 would release a second single with Steeltown Records before moving to Motown Records . The group 's recordings at Steeltown Records were thought to be lost , but they were re...\n",
       "2   \\n = The Remix ( Lady Gaga album ) = \\n \\n The Remix is a remix album by American recording artist Lady Gaga . Released in Japan on March 3 , 2010 , it contains remixes of the songs from her first studio album , The Fame ( 2008 ) , and her third extended play , The Fame Monster ( 2009 ) . A revised version of the track list was prepared for release in additional markets , beginning with Mexico on May 3 , 2010 . A number of recording artists have produced the songs , including Pet Shop Boys , Passion Pit and The Sound of Arrows . The remixed versions feature both uptempo and <unk> composit...\n",
       "3   \\n = New Year 's Eve ( Up All Night ) = \\n \\n \" New Year 's Eve \" is the twelfth episode of the first season of the American comedy television series Up All Night . The episode originally aired on NBC in the United States on January 12 , 2012 . It was written by Erica <unk> and was directed by Beth McCarthy @-@ Miller . The episode also featured a guest appearance from Jason Lee as Chris and Reagan 's neighbor and Ava 's boyfriend , Kevin . \\n During Reagan ( Christina Applegate ) and Chris 's ( Will <unk> ) first New Year 's Eve game night , Reagan 's competitiveness comes out causing Ch...\n",
       "4   \\n = Geopyxis carbonaria = \\n \\n Geopyxis carbonaria is a species of fungus in the genus Geopyxis , family <unk> . First described to science in 1805 , and given its current name in 1889 , the species is commonly known as the charcoal loving elf @-@ cup , dwarf <unk> cup , <unk> <unk> cup , or pixie cup . The small , <unk> @-@ shaped fruitbodies of the fungus are reddish @-@ brown with a whitish fringe and measure up to 2 cm ( 0 @.@ 8 in ) across . They have a short , tapered stalk . Fruitbodies are commonly found on soil where brush has recently been burned , sometimes in great numbers ...."
      ]
     },
     "execution_count": null,
     "metadata": {},
     "output_type": "execute_result"
    }
   ],
   "source": [
    "df_all.head()"
   ]
  },
  {
   "cell_type": "markdown",
   "metadata": {},
   "source": [
    "We could tokenize it based on spaces to compare (as is usually done) but here we'll use the standard fastai tokenizer."
   ]
  },
  {
   "cell_type": "code",
   "execution_count": null,
   "metadata": {},
   "outputs": [
    {
     "data": {
      "text/html": [],
      "text/plain": [
       "<IPython.core.display.HTML object>"
      ]
     },
     "metadata": {},
     "output_type": "display_data"
    }
   ],
   "source": [
    "splits = [list(range_of(df_train)), list(range(len(df_train), len(df_all)))]\n",
    "tfms = [attrgetter(\"text\"), Tokenizer.from_df(0), Numericalize()]\n",
    "dsrc = DataSource(df_all, [tfms], splits=splits, dl_type=LMDataLoader)"
   ]
  },
  {
   "cell_type": "code",
   "execution_count": null,
   "metadata": {},
   "outputs": [],
   "source": [
    "bs,sl = 104,72\n",
    "dbch = dsrc.databunch(bs=bs, seq_len=sl)"
   ]
  },
  {
   "cell_type": "code",
   "execution_count": null,
   "metadata": {},
   "outputs": [
    {
     "data": {
      "text/html": [
       "<table border=\"1\" class=\"dataframe\">\n",
       "  <thead>\n",
       "    <tr style=\"text-align: right;\">\n",
       "      <th></th>\n",
       "      <th>text</th>\n",
       "      <th>text_</th>\n",
       "    </tr>\n",
       "  </thead>\n",
       "  <tbody>\n",
       "    <tr>\n",
       "      <th>0</th>\n",
       "      <td>xxbos = xxup hms xxmaj boreas ( xxunk ) = \\n▁\\n▁ xxup hms xxmaj boreas was a xxmaj b - class destroyer built for the xxmaj royal xxmaj navy around 1930 . xxmaj initially assigned to the xxmaj mediterranean xxmaj fleet , she was transferred to the xxmaj home xxmaj fleet in 1936 . xxmaj the ship then patrolled xxmaj spanish waters enforcing the arms blockade during the first year of the</td>\n",
       "      <td>= xxup hms xxmaj boreas ( xxunk ) = \\n▁\\n▁ xxup hms xxmaj boreas was a xxmaj b - class destroyer built for the xxmaj royal xxmaj navy around 1930 . xxmaj initially assigned to the xxmaj mediterranean xxmaj fleet , she was transferred to the xxmaj home xxmaj fleet in 1936 . xxmaj the ship then patrolled xxmaj spanish waters enforcing the arms blockade during the first year of the xxmaj</td>\n",
       "    </tr>\n",
       "    <tr>\n",
       "      <th>1</th>\n",
       "      <td>xxmaj dunnington was selected to head the ordnance works at xxmaj little xxmaj rock , and although he continued to draw his pay from the xxmaj confederate xxmaj navy xxmaj department , he was placed in charge of all xxmaj confederate ordnance activities ( which included artillery functions ) there with the rank of lieutenant colonel . \\n▁ xxmaj lt . xxmaj col . xxmaj dunnington 's \" xxunk for the month</td>\n",
       "      <td>dunnington was selected to head the ordnance works at xxmaj little xxmaj rock , and although he continued to draw his pay from the xxmaj confederate xxmaj navy xxmaj department , he was placed in charge of all xxmaj confederate ordnance activities ( which included artillery functions ) there with the rank of lieutenant colonel . \\n▁ xxmaj lt . xxmaj col . xxmaj dunnington 's \" xxunk for the month of</td>\n",
       "    </tr>\n",
       "    <tr>\n",
       "      <th>2</th>\n",
       "      <td>\" just gave them this kind of spiky xxunk hair style , not thinking that they would eventually be drawn in color \" . \\n▁ xxmaj groening thought that it would be funny to have a baby character that did not talk and never grew up , but was scripted to show any emotions that the scene required . xxmaj maggie 's comedic xxunk include her tendency to xxunk and land on</td>\n",
       "      <td>just gave them this kind of spiky xxunk hair style , not thinking that they would eventually be drawn in color \" . \\n▁ xxmaj groening thought that it would be funny to have a baby character that did not talk and never grew up , but was scripted to show any emotions that the scene required . xxmaj maggie 's comedic xxunk include her tendency to xxunk and land on her</td>\n",
       "    </tr>\n",
       "    <tr>\n",
       "      <th>3</th>\n",
       "      <td>need for pure thoughts as well as actions , and stated , \" xxmaj everyone who looks at a woman xxunk has already committed adultery with her in his heart \" ( xxmaj matthew 5 : 28 ) . xxmaj the xxmaj catechism states that , with the help of xxmaj god 's grace , men and women are required to overcome lust and bodily desires \" for sinful relationships with another</td>\n",
       "      <td>for pure thoughts as well as actions , and stated , \" xxmaj everyone who looks at a woman xxunk has already committed adultery with her in his heart \" ( xxmaj matthew 5 : 28 ) . xxmaj the xxmaj catechism states that , with the help of xxmaj god 's grace , men and women are required to overcome lust and bodily desires \" for sinful relationships with another person</td>\n",
       "    </tr>\n",
       "    <tr>\n",
       "      <th>4</th>\n",
       "      <td>is the date when the long - term stage is to be completed ( full technical integration in xxup nato and xxup eu ) . xxmaj the stages aim at xxunk the structure of the armed forces , reducing the personnel as well as acquiring newer and improved technology that is compatible with xxup nato standards . \\n▁ xxmaj romania abolished compulsory military service on xxmaj october 23 , 2006 . xxmaj</td>\n",
       "      <td>the date when the long - term stage is to be completed ( full technical integration in xxup nato and xxup eu ) . xxmaj the stages aim at xxunk the structure of the armed forces , reducing the personnel as well as acquiring newer and improved technology that is compatible with xxup nato standards . \\n▁ xxmaj romania abolished compulsory military service on xxmaj october 23 , 2006 . xxmaj this</td>\n",
       "    </tr>\n",
       "    <tr>\n",
       "      <th>5</th>\n",
       "      <td>to 48 % . xxmaj near the end of the month , xxmaj nixon 's opponent xxmaj george xxmaj romney exited the race , mostly due to comments he made about being \" brainwashed \" during a visit to xxmaj vietnam . xxmaj this left xxmaj nixon nearly unopposed for the upcoming primaries , narrowing his opponents to xxmaj nelson xxmaj rockefeller and xxmaj ronald xxmaj reagan , neither of whom had</td>\n",
       "      <td>48 % . xxmaj near the end of the month , xxmaj nixon 's opponent xxmaj george xxmaj romney exited the race , mostly due to comments he made about being \" brainwashed \" during a visit to xxmaj vietnam . xxmaj this left xxmaj nixon nearly unopposed for the upcoming primaries , narrowing his opponents to xxmaj nelson xxmaj rockefeller and xxmaj ronald xxmaj reagan , neither of whom had announced</td>\n",
       "    </tr>\n",
       "    <tr>\n",
       "      <th>6</th>\n",
       "      <td>in xxmaj sarajevo , which was expecting direction from the xxup kpj xxmaj central xxmaj committee to launch a general uprising across xxmaj yugoslavia . xxmaj once they became aware of the xxmaj german attack on the xxmaj soviet xxmaj union , the xxup kpj in xxmaj herzegovina voted to join the mass uprising , but this only occurred on 24 xxmaj june , when the uprising was already in full swing</td>\n",
       "      <td>xxmaj sarajevo , which was expecting direction from the xxup kpj xxmaj central xxmaj committee to launch a general uprising across xxmaj yugoslavia . xxmaj once they became aware of the xxmaj german attack on the xxmaj soviet xxmaj union , the xxup kpj in xxmaj herzegovina voted to join the mass uprising , but this only occurred on 24 xxmaj june , when the uprising was already in full swing .</td>\n",
       "    </tr>\n",
       "    <tr>\n",
       "      <th>7</th>\n",
       "      <td>in 1974 , and the ibis was first scientifically described in 1987 . xxmaj its closest relatives are the xxunk sacred ibis , the xxmaj african sacred ibis , and the straw - necked ibis . \\n▁ xxunk ' accounts from the 17th and 18th centuries described a white bird that flew with difficulty , and it was subsequently referred to as the xxmaj réunion solitaire . xxmaj in the mid 19th</td>\n",
       "      <td>1974 , and the ibis was first scientifically described in 1987 . xxmaj its closest relatives are the xxunk sacred ibis , the xxmaj african sacred ibis , and the straw - necked ibis . \\n▁ xxunk ' accounts from the 17th and 18th centuries described a white bird that flew with difficulty , and it was subsequently referred to as the xxmaj réunion solitaire . xxmaj in the mid 19th century</td>\n",
       "    </tr>\n",
       "    <tr>\n",
       "      <th>8</th>\n",
       "      <td>emotion … and they relive it on a daily basis . i think it was crazy and blown out of proportion … . xxmaj but people benefit from controversy , and those same people who probably were trying to bring awareness , now they have a voice and now they ’ re ' specialists , ' and they can speak for a group of people all of a sudden . \\n▁\\n▁ =</td>\n",
       "      <td>… and they relive it on a daily basis . i think it was crazy and blown out of proportion … . xxmaj but people benefit from controversy , and those same people who probably were trying to bring awareness , now they have a voice and now they ’ re ' specialists , ' and they can speak for a group of people all of a sudden . \\n▁\\n▁ = =</td>\n",
       "    </tr>\n",
       "  </tbody>\n",
       "</table>"
      ],
      "text/plain": [
       "<IPython.core.display.HTML object>"
      ]
     },
     "metadata": {},
     "output_type": "display_data"
    }
   ],
   "source": [
    "dbch.show_batch()"
   ]
  },
  {
   "cell_type": "markdown",
   "metadata": {},
   "source": [
    "## Model"
   ]
  },
  {
   "cell_type": "code",
   "execution_count": null,
   "metadata": {},
   "outputs": [],
   "source": [
    "config = awd_lstm_lm_config.copy()\n",
    "config.update({'input_p': 0.6, 'output_p': 0.4, 'weight_p': 0.5, 'embed_p': 0.1, 'hidden_p': 0.2})\n",
    "model = get_language_model(AWD_LSTM, len(dbch.vocab), config=config)"
   ]
  },
  {
   "cell_type": "code",
   "execution_count": null,
   "metadata": {},
   "outputs": [],
   "source": [
    "opt_func = partial(Adam, wd=0.1, eps=1e-7)\n",
    "cb_funcs = [partial(MixedPrecision, clip=0.1), partial(RNNTrainer, alpha=2, beta=1)]"
   ]
  },
  {
   "cell_type": "code",
   "execution_count": null,
   "metadata": {},
   "outputs": [],
   "source": [
    "learn = Learner(dbch, model, loss_func=CrossEntropyLossFlat(), opt_func=opt_func, cb_funcs=cb_funcs, metrics=[accuracy, Perplexity()])"
   ]
  },
  {
   "cell_type": "code",
   "execution_count": null,
   "metadata": {},
   "outputs": [
    {
     "data": {
      "text/html": [
       "<table border=\"1\" class=\"dataframe\">\n",
       "  <thead>\n",
       "    <tr style=\"text-align: left;\">\n",
       "      <th>epoch</th>\n",
       "      <th>train_loss</th>\n",
       "      <th>valid_loss</th>\n",
       "      <th>accuracy</th>\n",
       "      <th>perplexity</th>\n",
       "      <th>time</th>\n",
       "    </tr>\n",
       "  </thead>\n",
       "  <tbody>\n",
       "    <tr>\n",
       "      <td>0</td>\n",
       "      <td>5.541026</td>\n",
       "      <td>5.053756</td>\n",
       "      <td>0.241910</td>\n",
       "      <td>156.609619</td>\n",
       "      <td>02:27</td>\n",
       "    </tr>\n",
       "  </tbody>\n",
       "</table>"
      ],
      "text/plain": [
       "<IPython.core.display.HTML object>"
      ]
     },
     "metadata": {},
     "output_type": "display_data"
    }
   ],
   "source": [
    "learn.fit_one_cycle(1, 5e-3, moms=(0.8,0.7,0.8), div=10)"
   ]
  },
  {
   "cell_type": "markdown",
   "metadata": {},
   "source": [
    "Full training"
   ]
  },
  {
   "cell_type": "code",
   "execution_count": null,
   "metadata": {},
   "outputs": [],
   "source": [
    "#learn.fit_one_cycle(90, 5e-3, moms=(0.8,0.7,0.8), div=10)"
   ]
  },
  {
   "cell_type": "code",
   "execution_count": null,
   "metadata": {},
   "outputs": [],
   "source": []
  }
 ],
 "metadata": {
  "jupytext": {
   "split_at_heading": true
  },
  "kernelspec": {
   "display_name": "Python 3",
   "language": "python",
   "name": "python3"
  }
 },
 "nbformat": 4,
 "nbformat_minor": 2
}
