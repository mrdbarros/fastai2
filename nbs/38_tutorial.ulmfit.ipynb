{
 "cells": [
  {
   "cell_type": "code",
   "execution_count": null,
   "metadata": {},
   "outputs": [],
   "source": [
    "from fastai2.text.all import *"
   ]
  },
  {
   "cell_type": "code",
   "execution_count": null,
   "metadata": {},
   "outputs": [],
   "source": [
    "from nbdev.showdoc import *"
   ]
  },
  {
   "cell_type": "code",
   "execution_count": null,
   "metadata": {},
   "outputs": [],
   "source": [
    "# all_slow"
   ]
  },
  {
   "cell_type": "markdown",
   "metadata": {},
   "source": [
    "# Transfer learning in text\n",
    "\n",
    "> How to fine-tune a language model and train a classifier"
   ]
  },
  {
   "cell_type": "markdown",
   "metadata": {},
   "source": [
    "## Finetune a pretrained Language Model"
   ]
  },
  {
   "cell_type": "markdown",
   "metadata": {},
   "source": [
    "First we get our data and tokenize it."
   ]
  },
  {
   "cell_type": "code",
   "execution_count": null,
   "metadata": {},
   "outputs": [],
   "source": [
    "path = untar_data(URLs.IMDB_SAMPLE)\n",
    "df = pd.read_csv(path/'texts.csv')"
   ]
  },
  {
   "cell_type": "markdown",
   "metadata": {},
   "source": [
    "Then we put it in a `DataSource`. For a language model, we don't have targets, so there is only one transform to numericalize the texts."
   ]
  },
  {
   "cell_type": "code",
   "execution_count": null,
   "metadata": {},
   "outputs": [
    {
     "data": {
      "text/html": [],
      "text/plain": [
       "<IPython.core.display.HTML object>"
      ]
     },
     "metadata": {},
     "output_type": "display_data"
    }
   ],
   "source": [
    "splits = ColSplitter()(df)\n",
    "tfms = [attrgetter(\"text\"), Tokenizer.from_df(\"text\"), Numericalize()]\n",
    "dsrc = DataSource(df, [tfms], splits=splits, dl_type=LMDataLoader)"
   ]
  },
  {
   "cell_type": "markdown",
   "metadata": {},
   "source": [
    "Then we use that `DataSource` to create a `DataBunch`. Here the class of `TfmdDL` we need to use is `LMDataLoader` which will concatenate all the texts in a source (with a shuffle at each epoch for the training set), split it in `bs` chunks then read continuously through it."
   ]
  },
  {
   "cell_type": "code",
   "execution_count": null,
   "metadata": {},
   "outputs": [],
   "source": [
    "dbunch = dsrc.databunch(bs=64, seq_len=72)"
   ]
  },
  {
   "cell_type": "markdown",
   "metadata": {},
   "source": [
    "Or more simply with a factory method:"
   ]
  },
  {
   "cell_type": "code",
   "execution_count": null,
   "metadata": {},
   "outputs": [
    {
     "data": {
      "text/html": [],
      "text/plain": [
       "<IPython.core.display.HTML object>"
      ]
     },
     "metadata": {},
     "output_type": "display_data"
    }
   ],
   "source": [
    "dbunch = TextDataBunch.from_df(df, text_col='text', is_lm=True, valid_col='is_valid')"
   ]
  },
  {
   "cell_type": "code",
   "execution_count": null,
   "metadata": {},
   "outputs": [
    {
     "data": {
      "text/html": [
       "<table border=\"1\" class=\"dataframe\">\n",
       "  <thead>\n",
       "    <tr style=\"text-align: right;\">\n",
       "      <th></th>\n",
       "      <th>text</th>\n",
       "      <th>text_</th>\n",
       "    </tr>\n",
       "  </thead>\n",
       "  <tbody>\n",
       "    <tr>\n",
       "      <th>0</th>\n",
       "      <td>xxbos xxmaj this is a extremely well - made film . xxmaj the acting , script and camera - work are all first - rate . xxmaj the music is good , too , though it is mostly early in the film , when things are still relatively xxunk . xxmaj there are no really xxunk in the cast , though several faces will be familiar . xxmaj the entire cast does</td>\n",
       "      <td>xxmaj this is a extremely well - made film . xxmaj the acting , script and camera - work are all first - rate . xxmaj the music is good , too , though it is mostly early in the film , when things are still relatively xxunk . xxmaj there are no really xxunk in the cast , though several faces will be familiar . xxmaj the entire cast does an</td>\n",
       "    </tr>\n",
       "    <tr>\n",
       "      <th>1</th>\n",
       "      <td>. xxmaj before i go further , it seems only fair that i point out the following so a reader can see if xxmaj i 'm xxunk or not . xxmaj i 'm trying to be objective , for the record . \\n\\n i tend to enjoy xxmaj maher 's xxup xxunk show now and then , though i rarely think he 's the source of the humor . i do n't</td>\n",
       "      <td>xxmaj before i go further , it seems only fair that i point out the following so a reader can see if xxmaj i 'm xxunk or not . xxmaj i 'm trying to be objective , for the record . \\n\\n i tend to enjoy xxmaj maher 's xxup xxunk show now and then , though i rarely think he 's the source of the humor . i do n't really</td>\n",
       "    </tr>\n",
       "  </tbody>\n",
       "</table>"
      ],
      "text/plain": [
       "<IPython.core.display.HTML object>"
      ]
     },
     "metadata": {},
     "output_type": "display_data"
    }
   ],
   "source": [
    "dbunch.show_batch(max_n=2)"
   ]
  },
  {
   "cell_type": "markdown",
   "metadata": {},
   "source": [
    "Then we have a convenience method to directly grab a `Learner` from it, using the `AWD_LSTM` architecture."
   ]
  },
  {
   "cell_type": "code",
   "execution_count": null,
   "metadata": {},
   "outputs": [],
   "source": [
    "learn = language_model_learner(dbunch, AWD_LSTM, metrics=[accuracy, Perplexity()], path=path, opt_func = partial(Adam, wd=0.1)).to_fp16()"
   ]
  },
  {
   "cell_type": "code",
   "execution_count": null,
   "metadata": {},
   "outputs": [
    {
     "data": {
      "text/html": [
       "<table border=\"1\" class=\"dataframe\">\n",
       "  <thead>\n",
       "    <tr style=\"text-align: left;\">\n",
       "      <th>epoch</th>\n",
       "      <th>train_loss</th>\n",
       "      <th>valid_loss</th>\n",
       "      <th>accuracy</th>\n",
       "      <th>perplexity</th>\n",
       "      <th>time</th>\n",
       "    </tr>\n",
       "  </thead>\n",
       "  <tbody>\n",
       "    <tr>\n",
       "      <td>0</td>\n",
       "      <td>4.537915</td>\n",
       "      <td>4.057219</td>\n",
       "      <td>0.274963</td>\n",
       "      <td>57.813309</td>\n",
       "      <td>00:09</td>\n",
       "    </tr>\n",
       "  </tbody>\n",
       "</table>"
      ],
      "text/plain": [
       "<IPython.core.display.HTML object>"
      ]
     },
     "metadata": {},
     "output_type": "display_data"
    }
   ],
   "source": [
    "learn.freeze()\n",
    "learn.fit_one_cycle(1, 1e-2)"
   ]
  },
  {
   "cell_type": "code",
   "execution_count": null,
   "metadata": {},
   "outputs": [
    {
     "data": {
      "text/html": [
       "<table border=\"1\" class=\"dataframe\">\n",
       "  <thead>\n",
       "    <tr style=\"text-align: left;\">\n",
       "      <th>epoch</th>\n",
       "      <th>train_loss</th>\n",
       "      <th>valid_loss</th>\n",
       "      <th>accuracy</th>\n",
       "      <th>perplexity</th>\n",
       "      <th>time</th>\n",
       "    </tr>\n",
       "  </thead>\n",
       "  <tbody>\n",
       "    <tr>\n",
       "      <td>0</td>\n",
       "      <td>4.315029</td>\n",
       "      <td>4.153787</td>\n",
       "      <td>0.261169</td>\n",
       "      <td>63.674690</td>\n",
       "      <td>00:11</td>\n",
       "    </tr>\n",
       "    <tr>\n",
       "      <td>1</td>\n",
       "      <td>4.140304</td>\n",
       "      <td>4.086970</td>\n",
       "      <td>0.268618</td>\n",
       "      <td>59.559143</td>\n",
       "      <td>00:11</td>\n",
       "    </tr>\n",
       "    <tr>\n",
       "      <td>2</td>\n",
       "      <td>3.815153</td>\n",
       "      <td>4.053044</td>\n",
       "      <td>0.273681</td>\n",
       "      <td>57.572433</td>\n",
       "      <td>00:11</td>\n",
       "    </tr>\n",
       "    <tr>\n",
       "      <td>3</td>\n",
       "      <td>3.428173</td>\n",
       "      <td>4.084964</td>\n",
       "      <td>0.272838</td>\n",
       "      <td>59.439785</td>\n",
       "      <td>00:10</td>\n",
       "    </tr>\n",
       "  </tbody>\n",
       "</table>"
      ],
      "text/plain": [
       "<IPython.core.display.HTML object>"
      ]
     },
     "metadata": {},
     "output_type": "display_data"
    }
   ],
   "source": [
    "learn.unfreeze()\n",
    "learn.fit_one_cycle(4, 1e-2)"
   ]
  },
  {
   "cell_type": "markdown",
   "metadata": {},
   "source": [
    "Once we have fine-tuned the pretrained language model to this corpus, we save the encoder since we will use it for the classifier."
   ]
  },
  {
   "cell_type": "code",
   "execution_count": null,
   "metadata": {},
   "outputs": [
    {
     "data": {
      "text/html": [],
      "text/plain": [
       "<IPython.core.display.HTML object>"
      ]
     },
     "metadata": {},
     "output_type": "display_data"
    },
    {
     "data": {
      "text/html": [
       "<table border=\"1\" class=\"dataframe\">\n",
       "  <thead>\n",
       "    <tr style=\"text-align: right;\">\n",
       "      <th></th>\n",
       "      <th>input</th>\n",
       "      <th>target</th>\n",
       "      <th>pred</th>\n",
       "    </tr>\n",
       "  </thead>\n",
       "  <tbody>\n",
       "    <tr>\n",
       "      <th>0</th>\n",
       "      <td>xxbos i found myself very caught up in this movie , at least at the beginning , and any credit i give to this movie , is xxmaj xxunk xxmaj xxunk , she was fantastic ! ! xxmaj but that s where it ends . i seem to be very good at xxunk out who the killer is , and i like it when a movie is able to completely xxunk me</td>\n",
       "      <td>i found myself very caught up in this movie , at least at the beginning , and any credit i give to this movie , is xxmaj xxunk xxmaj xxunk , she was fantastic ! ! xxmaj but that s where it ends . i seem to be very good at xxunk out who the killer is , and i like it when a movie is able to completely xxunk me ,</td>\n",
       "      <td>xxmaj was this watching excited up in this movie . and least at the beginning , but i bit i had to the movie is is that xxunk xxmaj xxunk . the was the . xxmaj xxmaj the i 's not it was ! xxmaj think to be a disappointed at watching out the i movie was , but i think to . i movie is shot to make xxunk the .</td>\n",
       "    </tr>\n",
       "    <tr>\n",
       "      <th>1</th>\n",
       "      <td>logic , not only is the acting terrible , not only is the entire movie offensive from start to finish , not only is the direction as amateurish as you can find , but they actually want you to pay to see this film . xxmaj maybe if it was free … n xxrep 3 a h , it would still be a waste of time . \\n\\n xxmaj usually xxmaj i</td>\n",
       "      <td>, not only is the acting terrible , not only is the entire movie offensive from start to finish , not only is the direction as amateurish as you can find , but they actually want you to pay to see this film . xxmaj maybe if it was free … n xxrep 3 a h , it would still be a waste of time . \\n\\n xxmaj usually xxmaj i 'd</td>\n",
       "      <td>, and only is the film as , but only is the acting movie just , start to finish , but only is the acting and xxunk as it can find , but also also have to to see for see this movie . xxmaj it it you was a , i xxrep 3 o xxunk xxrep it would have be a little of time . xxbos xxmaj the i i 'm</td>\n",
       "    </tr>\n",
       "    <tr>\n",
       "      <th>2</th>\n",
       "      <td>was xxunk , cliché , or just plain stupid . xxmaj for instance the name of the camp is \" camp blood \" ( lame ) , the name of the clown is \" the killer clown \" ( lame ) . xxmaj what is a clown doing in a forest anyway ? xxmaj was that the only mask they could find ? 3 . xxmaj the last but certainly the least</td>\n",
       "      <td>xxunk , cliché , or just plain stupid . xxmaj for instance the name of the camp is \" camp blood \" ( lame ) , the name of the clown is \" the killer clown \" ( lame ) . xxmaj what is a clown doing in a forest anyway ? xxmaj was that the only mask they could find ? 3 . xxmaj the last but certainly the least was</td>\n",
       "      <td>a by and - and not plain stupid . xxmaj the me , xxunk of the film is \" xxunk \" \" . xxunk ) . but word of the film is \" the xxmaj \" \" ( xxunk ) . xxmaj the makes the joke doing in a car is ? xxmaj and that the name thing you could make ? xxmaj . xxmaj the xxunk scene xxunk the worst was</td>\n",
       "    </tr>\n",
       "    <tr>\n",
       "      <th>3</th>\n",
       "      <td>wife 's teeth and cut out her tongue with no xxunk ? xxmaj overall awesome flick , but not for everyone . xxbos xxmaj red xxmaj rock xxmaj west is one of those rare films that keeps you guessing the entire time as to what will happen next . xxmaj nicolas xxmaj cage is mistaken for a contract killer as he enters a small town trying to find work . xxmaj dennis</td>\n",
       "      <td>'s teeth and cut out her tongue with no xxunk ? xxmaj overall awesome flick , but not for everyone . xxbos xxmaj red xxmaj rock xxmaj west is one of those rare films that keeps you guessing the entire time as to what will happen next . xxmaj nicolas xxmaj cage is mistaken for a contract killer as he enters a small town trying to find work . xxmaj dennis xxmaj</td>\n",
       "      <td>and daughter , her out her hair . a xxunk . xxmaj the , movie . but it as me . xxmaj xxmaj this xxmaj rock xxmaj west is a of the films films that you you interested . entire time . you what is happen next . xxmaj the xxmaj cage is xxmaj for a xxunk agent as a has a xxunk town . to find out . xxmaj he xxmaj</td>\n",
       "    </tr>\n",
       "    <tr>\n",
       "      <th>4</th>\n",
       "      <td>are not allowed to attend soccer xxunk , so the nation 's armed forces have been xxunk to save any women who try to enter from themselves . xxmaj some ( teen ? ) girls try to crash the party by dressing as boys , but are caught . xxmaj the movie is mostly set at this holding pen where the girls are xxunk by soldiers , xxunk some xxunk punishment (</td>\n",
       "      <td>not allowed to attend soccer xxunk , so the nation 's armed forces have been xxunk to save any women who try to enter from themselves . xxmaj some ( teen ? ) girls try to crash the party by dressing as boys , but are caught . xxmaj the movie is mostly set at this holding pen where the girls are xxunk by soldiers , xxunk some xxunk punishment ( although</td>\n",
       "      <td>not the to xxunk the xxunk . but they girls is armed forces have been xxunk to xxunk the women who are to live the their . xxmaj the of including ) ) girls are to xxunk the country by xxunk as boys . but they xxunk and xxmaj the girls is so shot in the xxunk place , a girls are xxunk and a , and and xxunk xxunk . and</td>\n",
       "    </tr>\n",
       "    <tr>\n",
       "      <th>5</th>\n",
       "      <td>good . xxmaj it 's my personal favorite of all the \" christmas xxmaj carol \" movies because every aspect of this production are of the highest quality . xxmaj yes , there are some minor on screen xxunk with two of the ghosts that visit xxmaj scrooge , but there is n't a movie in existence that does n't have at least a couple of mistakes . \\n\\n xxmaj scott turns</td>\n",
       "      <td>. xxmaj it 's my personal favorite of all the \" christmas xxmaj carol \" movies because every aspect of this production are of the highest quality . xxmaj yes , there are some minor on screen xxunk with two of the ghosts that visit xxmaj scrooge , but there is n't a movie in existence that does n't have at least a couple of mistakes . \\n\\n xxmaj scott turns in</td>\n",
       "      <td>, xxmaj the 's a favorite favorite . all the xxmaj xxunk xxmaj carol \" movies . it aspect of the film is the the same quality . xxmaj the , this are a good moments screen xxunk , the of the best , are the xxunk . but this are no a lot in the that is n't have a least a lot of laughs . xxmaj xxmaj the xxmaj in</td>\n",
       "    </tr>\n",
       "    <tr>\n",
       "      <th>6</th>\n",
       "      <td>\" la xxmaj xxunk xxmaj xxunk \" with the original soundtrack \" xxunk \" as an alternative language , since despite searching i could not find a wholly xxmaj english xxunk was however xxunk to see another performance by xxmaj ella xxmaj raines after being impressed with her performance as a heroine in \" impact \" playing a sole female xxunk xxunk xxmaj ella performs another heroic role believing in the innocence</td>\n",
       "      <td>la xxmaj xxunk xxmaj xxunk \" with the original soundtrack \" xxunk \" as an alternative language , since despite searching i could not find a wholly xxmaj english xxunk was however xxunk to see another performance by xxmaj ella xxmaj raines after being impressed with her performance as a heroine in \" impact \" playing a sole female xxunk xxunk xxmaj ella performs another heroic role believing in the innocence of</td>\n",
       "      <td>xxunk xxmaj xxunk \" xxunk \" ( xxmaj xxmaj \" . xxunk xxmaj . well xxunk song . and it the for would n't find any new original english - in actually xxunk . the xxmaj of by xxmaj xxunk xxmaj raines in being xxunk with her performance . a xxunk . \" xxunk \" . a xxunk female xxunk . . xxunk xxmaj a xxunk role in in the xxunk of</td>\n",
       "    </tr>\n",
       "    <tr>\n",
       "      <th>7</th>\n",
       "      <td>i mentioned before , quite dated and very simple . xxmaj the least detailed of basically any 3d game released by a professional team of creators . xxmaj if you can get over that , xxunk some would suggest that this simplicity only adds to the effect the game has on you ) , then you 've got one heck of a good shooter / xxunk game . xxmaj the game play</td>\n",
       "      <td>mentioned before , quite dated and very simple . xxmaj the least detailed of basically any 3d game released by a professional team of creators . xxmaj if you can get over that , xxunk some would suggest that this simplicity only adds to the effect the game has on you ) , then you 've got one heck of a good shooter / xxunk game . xxmaj the game play consists</td>\n",
       "      <td>was was . but recently and very little . xxmaj the acting interesting is the any movie game is by xxup professional team of xxunk . xxmaj the you are find a the , you you of be that you is is xxunk to the quality it game has on you . . but you will got to of of a xxunk game / xxunk game . xxmaj it game is is</td>\n",
       "    </tr>\n",
       "    <tr>\n",
       "      <th>8</th>\n",
       "      <td>more likely that the xxmaj british simply saw the xxunk between the xxunk and were clever enough to exploit them to their own ends . \\n\\n xxmaj the result is that there is much cruelty and inhumanity in the situation and this is very unpleasant to remember and to see on the screen . xxmaj but it is never painted as a black - and - white case . xxmaj there is</td>\n",
       "      <td>likely that the xxmaj british simply saw the xxunk between the xxunk and were clever enough to exploit them to their own ends . \\n\\n xxmaj the result is that there is much cruelty and inhumanity in the situation and this is very unpleasant to remember and to see on the screen . xxmaj but it is never painted as a black - and - white case . xxmaj there is xxunk</td>\n",
       "      <td>than . the film xxunk would had the film of the xxmaj and the xxunk enough to keep them . xxunk own side . xxmaj xxmaj the xxmaj is a the is a more and violence in the film . the is a well . watch . to be . the screen . xxmaj the it is a a as a black - and - white film . xxmaj the are a</td>\n",
       "    </tr>\n",
       "    <tr>\n",
       "      <th>9</th>\n",
       "      <td>, as if improvised by bored actors , popping out of nothingness into nothingness . \\n\\n xxmaj modern art has finally succeeded in xxunk the thing without being the thing , so that what we behold is the idea of the idea , empty as a shell , but not even a shell , merely the idea of a shell . xxmaj could one ask for a better definition of xxunk ?</td>\n",
       "      <td>as if improvised by bored actors , popping out of nothingness into nothingness . \\n\\n xxmaj modern art has finally succeeded in xxunk the thing without being the thing , so that what we behold is the idea of the idea , empty as a shell , but not even a shell , merely the idea of a shell . xxmaj could one ask for a better definition of xxunk ? xxbos</td>\n",
       "      <td>and a it by xxmaj actors , they out of the . a . xxmaj xxmaj the xxmaj has been been in xxunk the xxunk with resorting a least that but it it is see is a xxunk of a xxunk of which and a whole . and it as a xxunk . and a xxunk of a xxunk . xxmaj the n't xxunk for a xxunk time of xxunk , xxmaj</td>\n",
       "    </tr>\n",
       "  </tbody>\n",
       "</table>"
      ],
      "text/plain": [
       "<IPython.core.display.HTML object>"
      ]
     },
     "metadata": {},
     "output_type": "display_data"
    }
   ],
   "source": [
    "learn.show_results()"
   ]
  },
  {
   "cell_type": "code",
   "execution_count": null,
   "metadata": {},
   "outputs": [],
   "source": [
    "learn.save_encoder('enc1')"
   ]
  },
  {
   "cell_type": "markdown",
   "metadata": {},
   "source": [
    "## Use it to train a classifier"
   ]
  },
  {
   "cell_type": "markdown",
   "metadata": {},
   "source": [
    "For classification, we need to use two set of transforms: one to numericalize the texts and the other to encode the labels as categories. Note that we have to use the same vocabulary as the one used in fine-tuning the language model."
   ]
  },
  {
   "cell_type": "code",
   "execution_count": null,
   "metadata": {},
   "outputs": [],
   "source": [
    "lm_vocab = dbunch.vocab"
   ]
  },
  {
   "cell_type": "code",
   "execution_count": null,
   "metadata": {},
   "outputs": [
    {
     "data": {
      "text/html": [],
      "text/plain": [
       "<IPython.core.display.HTML object>"
      ]
     },
     "metadata": {},
     "output_type": "display_data"
    }
   ],
   "source": [
    "splits = ColSplitter()(df)\n",
    "x_tfms = [attrgetter(\"text\"), Tokenizer.from_df(\"text\"), Numericalize(vocab=lm_vocab)]\n",
    "dsrc = DataSource(df, splits=splits, tfms=[x_tfms, [attrgetter(\"label\"), Categorize()]], dl_type=SortedDL)"
   ]
  },
  {
   "cell_type": "markdown",
   "metadata": {},
   "source": [
    "We once again use a subclass of `TfmdDL` for the dataloaders, since we want to sort the texts (sortish for the training set) by order of lengths. We also use `pad_collate` to create batches form texts of different lengths."
   ]
  },
  {
   "cell_type": "code",
   "execution_count": null,
   "metadata": {},
   "outputs": [],
   "source": [
    "dbunch = dsrc.databunch(before_batch=pad_input_chunk)"
   ]
  },
  {
   "cell_type": "markdown",
   "metadata": {},
   "source": [
    "And there is a factory method, once again:"
   ]
  },
  {
   "cell_type": "code",
   "execution_count": null,
   "metadata": {},
   "outputs": [
    {
     "data": {
      "text/html": [],
      "text/plain": [
       "<IPython.core.display.HTML object>"
      ]
     },
     "metadata": {},
     "output_type": "display_data"
    }
   ],
   "source": [
    "dbunch = TextDataBunch.from_df(df, text_col=\"text\", text_vocab=lm_vocab, label_col='label', valid_col='is_valid', bs=32)"
   ]
  },
  {
   "cell_type": "code",
   "execution_count": null,
   "metadata": {},
   "outputs": [
    {
     "data": {
      "text/html": [
       "<table border=\"1\" class=\"dataframe\">\n",
       "  <thead>\n",
       "    <tr style=\"text-align: right;\">\n",
       "      <th></th>\n",
       "      <th>text</th>\n",
       "      <th>category</th>\n",
       "    </tr>\n",
       "  </thead>\n",
       "  <tbody>\n",
       "    <tr>\n",
       "      <th>0</th>\n",
       "      <td>xxbos xxmaj raising xxmaj victor xxmaj vargas : a xxmaj review \\n\\n xxmaj you know , xxmaj raising xxmaj victor xxmaj vargas is like sticking your hands into a big , xxunk bowl of xxunk . xxmaj it 's warm and gooey , but you 're not sure if it feels right . xxmaj try as i might , no</td>\n",
       "      <td>negative</td>\n",
       "    </tr>\n",
       "    <tr>\n",
       "      <th>1</th>\n",
       "      <td>xxbos xxup the xxup shop xxup around xxup the xxup corner is one of the xxunk and most feel - good romantic comedies ever made . xxmaj there 's just no getting around that , and it 's hard to actually put one 's feeling for this film into words . xxmaj it 's not one of those films that</td>\n",
       "      <td>positive</td>\n",
       "    </tr>\n",
       "  </tbody>\n",
       "</table>"
      ],
      "text/plain": [
       "<IPython.core.display.HTML object>"
      ]
     },
     "metadata": {},
     "output_type": "display_data"
    }
   ],
   "source": [
    "dbunch.show_batch(max_n=2, trunc_at=60)"
   ]
  },
  {
   "cell_type": "markdown",
   "metadata": {},
   "source": [
    "Then we once again have a convenience function to create a classifier from this `DataBunch` with the `AWD_LSTM` architecture."
   ]
  },
  {
   "cell_type": "code",
   "execution_count": null,
   "metadata": {},
   "outputs": [],
   "source": [
    "learn = text_classifier_learner(dbunch, AWD_LSTM, metrics=[accuracy], path=path,drop_mult=0.5)"
   ]
  },
  {
   "cell_type": "code",
   "execution_count": null,
   "metadata": {},
   "outputs": [],
   "source": [
    "learn = learn.load_encoder('enc1')"
   ]
  },
  {
   "cell_type": "markdown",
   "metadata": {},
   "source": [
    "Then we can train with gradual unfreezing and differential learning rates."
   ]
  },
  {
   "cell_type": "code",
   "execution_count": null,
   "metadata": {},
   "outputs": [
    {
     "data": {
      "text/html": [
       "<table border=\"1\" class=\"dataframe\">\n",
       "  <thead>\n",
       "    <tr style=\"text-align: left;\">\n",
       "      <th>epoch</th>\n",
       "      <th>train_loss</th>\n",
       "      <th>valid_loss</th>\n",
       "      <th>accuracy</th>\n",
       "      <th>time</th>\n",
       "    </tr>\n",
       "  </thead>\n",
       "  <tbody>\n",
       "    <tr>\n",
       "      <td>0</td>\n",
       "      <td>0.727597</td>\n",
       "      <td>0.584302</td>\n",
       "      <td>0.745000</td>\n",
       "      <td>00:05</td>\n",
       "    </tr>\n",
       "    <tr>\n",
       "      <td>1</td>\n",
       "      <td>0.606741</td>\n",
       "      <td>0.504984</td>\n",
       "      <td>0.745000</td>\n",
       "      <td>00:05</td>\n",
       "    </tr>\n",
       "    <tr>\n",
       "      <td>2</td>\n",
       "      <td>0.530358</td>\n",
       "      <td>0.477460</td>\n",
       "      <td>0.765000</td>\n",
       "      <td>00:05</td>\n",
       "    </tr>\n",
       "    <tr>\n",
       "      <td>3</td>\n",
       "      <td>0.476057</td>\n",
       "      <td>0.470573</td>\n",
       "      <td>0.745000</td>\n",
       "      <td>00:05</td>\n",
       "    </tr>\n",
       "  </tbody>\n",
       "</table>"
      ],
      "text/plain": [
       "<IPython.core.display.HTML object>"
      ]
     },
     "metadata": {},
     "output_type": "display_data"
    }
   ],
   "source": [
    "learn.fit_one_cycle(4)"
   ]
  },
  {
   "cell_type": "code",
   "execution_count": null,
   "metadata": {},
   "outputs": [],
   "source": [
    "learn.unfreeze()\n",
    "learn.opt = learn.create_opt()\n",
    "learn.fit_one_cycle(8, slice(1e-5,1e-3))"
   ]
  },
  {
   "cell_type": "code",
   "execution_count": null,
   "metadata": {},
   "outputs": [],
   "source": [
    "learn.show_results(max_n=2, trunc_at=60)"
   ]
  },
  {
   "cell_type": "code",
   "execution_count": null,
   "metadata": {},
   "outputs": [],
   "source": [
    "learn.predict(\"This was a good movie\")"
   ]
  },
  {
   "cell_type": "code",
   "execution_count": null,
   "metadata": {},
   "outputs": [],
   "source": [
    "from fastai2.interpret import *"
   ]
  },
  {
   "cell_type": "code",
   "execution_count": null,
   "metadata": {},
   "outputs": [],
   "source": [
    "interp = Interpretation.from_learner(learn)"
   ]
  },
  {
   "cell_type": "code",
   "execution_count": null,
   "metadata": {},
   "outputs": [],
   "source": [
    "interp.plot_top_losses(6)"
   ]
  },
  {
   "cell_type": "code",
   "execution_count": null,
   "metadata": {},
   "outputs": [],
   "source": []
  }
 ],
 "metadata": {
  "jupytext": {
   "split_at_heading": true
  },
  "kernelspec": {
   "display_name": "Python 3",
   "language": "python",
   "name": "python3"
  }
 },
 "nbformat": 4,
 "nbformat_minor": 2
}
